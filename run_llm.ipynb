{
 "cells": [
  {
   "cell_type": "code",
   "execution_count": null,
   "metadata": {},
   "outputs": [],
   "source": [
    "main_path = '/home/pgajo/working/llama.cpp/bin/main'\n",
    "model_path = '/storage/llm/llama2/nous-hermes-llama2-13b.Q4_0.gguf'\n",
    "prompt_path = '/home/pgajo/working/llama.cpp/prompts/nousehermes13b_english_teacher.txt'\n",
    "\n",
    "!\"$main_path\" -m \"$model_path\" -c 512 -b 1024 -n -1 --keep 48 -ngl 10 \\\n",
    "    --repeat_penalty 1.0 --color -i \\\n",
    "    --log-disable \\\n",
    "    -r \"User:\" -f \"$prompt_path\"\n"
   ]
  },
  {
   "cell_type": "code",
   "execution_count": 1,
   "metadata": {},
   "outputs": [
    {
     "name": "stdout",
     "output_type": "stream",
     "text": [
      "ggml_opencl: selecting platform: 'NVIDIA CUDA'\n",
      "ggml_opencl: selecting device: 'Quadro P4000'\n",
      "ggml_opencl: device FP16 support: false\n",
      "\u001b[33m[INST] <<SYS>>\n",
      "You are an English teacher helping students learn English.\n",
      "<</SYS>>\n",
      "\n",
      "Hello, I am an English student, I would like you to teach me some English. [/INST] Teacher: Hello! I would be glad to assist you as your English teacher. What can I assist you with today?\u001b[0m\n",
      " User:\u001b[1m\u001b[32m\u001b[0m\n"
     ]
    }
   ],
   "source": [
    "main_path = '/home/pgajo/working/llama.cpp/bin/main'\n",
    "model_path = '/storage/llm/llama2/Llama-2-7b-chat-hf/ggml-model-f16.gguf'\n",
    "prompt_path = '/home/pgajo/working/llama.cpp/prompts/llama2chat_w_model_response_english_teacher.txt'\n",
    "\n",
    "!\"$main_path\" -m \"$model_path\" -c 512 -b 1024 -n -1 --keep 48 -ngl 10 \\\n",
    "    --repeat_penalty 1.0 --color -i \\\n",
    "    --log-disable \\\n",
    "    -r \"User:\" -f \"$prompt_path\""
   ]
  }
 ],
 "metadata": {
  "kernelspec": {
   "display_name": "venv",
   "language": "python",
   "name": "python3"
  },
  "language_info": {
   "codemirror_mode": {
    "name": "ipython",
    "version": 3
   },
   "file_extension": ".py",
   "mimetype": "text/x-python",
   "name": "python",
   "nbconvert_exporter": "python",
   "pygments_lexer": "ipython3",
   "version": "3.8.10"
  }
 },
 "nbformat": 4,
 "nbformat_minor": 2
}
